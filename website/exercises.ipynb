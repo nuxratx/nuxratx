{
 "cells": [
  {
   "cell_type": "markdown",
   "metadata": {},
   "source": [
    "## What is a program?\n",
    "A sequence of instructions that specifies how to perform a computation. The computation might be something mathematical, like finding the solution to a quadratic formula or it can be something symbolic computatuion such as searching and replacing text in a document. You can write a program to organize your folders in your Personal computer. \n",
    "\n",
    "***\n",
    "\n",
    "### The main objective of all programming languages are more or less the same, they give out a set of instructions : \n",
    "\n",
    "<blockquote>\n",
    "<p>input</p>\n",
    "<blockquote>\n",
    "<p>Get data from the keyboard, a file, or some other device.</p>\n",
    "</blockquote>\n",
    "</blockquote>\n",
    "\n",
    "<blockquote>\n",
    "<p>output</p>\n",
    "<blockquote>\n",
    "<p>Display data on the screen or send data to a file or other device..</p>\n",
    "</blockquote>\n",
    "</blockquote>\n",
    "\n",
    "<blockquote>\n",
    "<p>math</p>\n",
    "<blockquote>\n",
    "<p>Perform basic mathematical operations like addition and multiplication.\n",
    "conditional execution.</p>\n",
    "</blockquote>\n",
    "</blockquote>\n",
    "\n",
    "<blockquote>\n",
    "<p>pconditional executionut</p>\n",
    "<blockquote>\n",
    "<p>Check for certain conditions and execute the appropriate sequence of statements.\n",
    "repetition</p>\n",
    "</blockquote>\n",
    "</blockquote>\n",
    "\n",
    "<blockquote>\n",
    "<p>repeition</p>\n",
    "<blockquote>\n",
    "<p>Perform some action repeatedly, usually with some variation.</p>\n",
    "</blockquote>\n",
    "</blockquote>\n",
    "\n",
    "\n",
    "\n",
    "\n",
    "\n"
   ]
  },
  {
   "cell_type": "code",
   "execution_count": null,
   "metadata": {},
   "outputs": [],
   "source": [
    "#Loop Display -10 to -1 \n",
    "last = -10\n",
    "first = -1 \n",
    "print (\"The number from -10 to -1: \")\n",
    "\n",
    "for i in range (last, first):\n",
    "    print (i)\n"
   ]
  },
  {
   "cell_type": "code",
   "execution_count": 6,
   "metadata": {},
   "outputs": [
    {
     "name": "stdout",
     "output_type": "stream",
     "text": [
      "Emma 26\n"
     ]
    }
   ],
   "source": [
    "def display_student(name, age):\n",
    "    print(name, age)\n",
    "\n",
    "\n",
    "\n",
    "show_student = display_student\n",
    "\n",
    "show_student(\"Emma\", 26)\n"
   ]
  },
  {
   "cell_type": "code",
   "execution_count": null,
   "metadata": {},
   "outputs": [],
   "source": [
    "num = 7 \n",
    "\n",
    "for i in range (11):\n",
    "    print(num*i)"
   ]
  },
  {
   "cell_type": "code",
   "execution_count": 9,
   "metadata": {},
   "outputs": [
    {
     "name": "stdout",
     "output_type": "stream",
     "text": [
      "8\n"
     ]
    }
   ],
   "source": [
    "number = 20240826\n",
    "\n",
    "number = str(number)\n",
    "print(len(number))\n",
    "    "
   ]
  },
  {
   "cell_type": "code",
   "execution_count": 1,
   "metadata": {},
   "outputs": [
    {
     "ename": "ModuleNotFoundError",
     "evalue": "No module named 'requests'",
     "output_type": "error",
     "traceback": [
      "\u001b[0;31m---------------------------------------------------------------------------\u001b[0m",
      "\u001b[0;31mModuleNotFoundError\u001b[0m                       Traceback (most recent call last)",
      "Cell \u001b[0;32mIn[1], line 1\u001b[0m\n\u001b[0;32m----> 1\u001b[0m \u001b[38;5;28;01mimport\u001b[39;00m \u001b[38;5;21;01mrequests\u001b[39;00m\n\u001b[1;32m      2\u001b[0m resp \u001b[38;5;241m=\u001b[39m requests\u001b[38;5;241m.\u001b[39mget(\u001b[38;5;124m\"\u001b[39m\u001b[38;5;124mhttps://realpython.com\u001b[39m\u001b[38;5;124m\"\u001b[39m)\n\u001b[1;32m      3\u001b[0m html \u001b[38;5;241m=\u001b[39m resp\u001b[38;5;241m.\u001b[39mtext\n",
      "\u001b[0;31mModuleNotFoundError\u001b[0m: No module named 'requests'"
     ]
    }
   ],
   "source": [
    "import requests\n",
    "\n",
    "resp = requests.get(\"https://realpython.com\")\n",
    "html = resp.text\n",
    "print(html[205:294])"
   ]
  },
  {
   "cell_type": "markdown",
   "metadata": {},
   "source": [
    "# Python object and Data Structure\n",
    "* Integers - whole numbers positive or negative 2, -3, 2 and such \n",
    "* Floating points - these numbers have decimal points in them and use exponential(e)\n"
   ]
  },
  {
   "cell_type": "markdown",
   "metadata": {},
   "source": [
    "## Basic Arithmetic  "
   ]
  },
  {
   "cell_type": "code",
   "execution_count": 1,
   "metadata": {},
   "outputs": [
    {
     "data": {
      "text/plain": [
       "1"
      ]
     },
     "execution_count": 1,
     "metadata": {},
     "output_type": "execute_result"
    }
   ],
   "source": [
    "#Floor Division : The operator // (two forward slashees) truncates the decimal to the floor, meaning it rounds down to the last whole number\n",
    "\n",
    "7//4"
   ]
  },
  {
   "cell_type": "code",
   "execution_count": 3,
   "metadata": {},
   "outputs": [
    {
     "data": {
      "text/plain": [
       "3"
      ]
     },
     "execution_count": 3,
     "metadata": {},
     "output_type": "execute_result"
    }
   ],
   "source": [
    "# Modulo : this wasy we get the remainder of a divison \n",
    "7%4"
   ]
  },
  {
   "cell_type": "code",
   "execution_count": 6,
   "metadata": {},
   "outputs": [
    {
     "data": {
      "text/plain": [
       "343"
      ]
     },
     "execution_count": 6,
     "metadata": {},
     "output_type": "execute_result"
    }
   ],
   "source": [
    "# powers: looks slightly different than how we would write  \n",
    "7**3"
   ]
  },
  {
   "cell_type": "code",
   "execution_count": 14,
   "metadata": {},
   "outputs": [
    {
     "data": {
      "text/plain": [
       "1.4142135623730951"
      ]
     },
     "execution_count": 14,
     "metadata": {},
     "output_type": "execute_result"
    }
   ],
   "source": [
    "# To do the roots \n",
    "4**0.25"
   ]
  },
  {
   "cell_type": "code",
   "execution_count": 15,
   "metadata": {},
   "outputs": [
    {
     "data": {
      "text/plain": [
       "168"
      ]
     },
     "execution_count": 15,
     "metadata": {},
     "output_type": "execute_result"
    }
   ],
   "source": [
    "#Can use parantheses to specify orders\n",
    "(2+10) * (10+4)"
   ]
  },
  {
   "cell_type": "markdown",
   "metadata": {},
   "source": [
    "## Variable Assignments\n",
    "* names can not start with a number \n",
    "* typical_variable \n",
    "* no single letters \n",
    "* no symbols such as ampersand & pipe | caret ^ tilde ~ hash# At sign @ forwarrd slash / backward slash \\ \n"
   ]
  },
  {
   "cell_type": "code",
   "execution_count": 64,
   "metadata": {},
   "outputs": [
    {
     "name": "stdout",
     "output_type": "stream",
     "text": [
      "1549.0\n"
     ]
    }
   ],
   "source": [
    "my_book = 50\n",
    "book_cost = 30.98\n",
    "\n",
    "my_cost = my_book*book_cost\n",
    "print(my_cost)"
   ]
  },
  {
   "cell_type": "markdown",
   "metadata": {},
   "source": [
    "### Dynamic Typing\n",
    "* Can reassign variables to different data types. This makes python flexible in reassining data types; it differes from other lamguages that are statically typed\n",
    "* Very easy to work with \n",
    "* Be aware of type()"
   ]
  },
  {
   "cell_type": "code",
   "execution_count": 23,
   "metadata": {},
   "outputs": [
    {
     "name": "stdout",
     "output_type": "stream",
     "text": [
      "['Love of Worker Bees', 'Bride of the Baja']\n"
     ]
    }
   ],
   "source": [
    "#First variable is a integer, second variable is literal string\n",
    "my_book = 3 \n",
    "my_book = ['Love of Worker Bees', 'Bride of the Baja']\n",
    "\n",
    "print(my_book)"
   ]
  },
  {
   "cell_type": "markdown",
   "metadata": {},
   "source": [
    "### Reassinign variables \n",
    "* When reasigning variables python let's you use shortcut. Python let's you add, subtract, multiply, and divide numbers with reassignment using +=, -= , *= and /=. "
   ]
  },
  {
   "cell_type": "code",
   "execution_count": 34,
   "metadata": {},
   "outputs": [
    {
     "name": "stdout",
     "output_type": "stream",
     "text": [
      "20\n",
      "30\n",
      "120\n",
      "60.0\n"
     ]
    }
   ],
   "source": [
    "#Reassigning Variables\n",
    "a = 10 \n",
    "a = a+10 \n",
    "\n",
    "print(a)\n",
    "\n",
    "#Adding another 10 to the existing a output using python shortcut\n",
    "a += 10 \n",
    "print(a)\n",
    "\n",
    "#Multiply existing a with shortcut\n",
    "\n",
    "a *= 4\n",
    "print(a)\n",
    "\n",
    "#Let's divide a by 2 \n",
    "a /= 2\n",
    "print(a)"
   ]
  },
  {
   "cell_type": "markdown",
   "metadata": {},
   "source": [
    "### Determine the variable type with type()\n",
    "You can check what type of object is assigned to a variable using python's built-in type() function. Commmon data types include: \n",
    "* int (for integers)\n",
    "* float \n",
    "* str (for string)\n",
    "* list \n",
    "* typle \n",
    "* dict (for dictionary)\n",
    "* set \n",
    "* bool (for Boolean True/False)"
   ]
  },
  {
   "cell_type": "code",
   "execution_count": 42,
   "metadata": {},
   "outputs": [
    {
     "data": {
      "text/plain": [
       "set"
      ]
     },
     "execution_count": 42,
     "metadata": {},
     "output_type": "execute_result"
    }
   ],
   "source": [
    "my_book = \"Bride of the Baja\"\n",
    "type(my_book)\n",
    "\n",
    "book_number = (1,3)\n",
    "type(book_number)\n",
    "\n",
    "#creating a list\n",
    "book_list = ['bride of the baja', 'Idiot']\n",
    "type(book_list)\n",
    "\n",
    "#creating s dictionary type\n",
    "book_list = {\n",
    "    \"book_one\": \"Bride of the baja\"\n",
    "}\n",
    "type(book_list)\n",
    "\n",
    "#Set of string type \n",
    "book_number = {'b','r','i','d','e'}\n",
    "type(book_number)\n",
    "\n"
   ]
  },
  {
   "cell_type": "markdown",
   "metadata": {},
   "source": [
    "## Strings\n",
    "* String is used to record text information. But they are actually sequence of letters, it allows python to keep track of every element in the string as a sequence. \n",
    "* Can use single quote or double quote "
   ]
  },
  {
   "cell_type": "code",
   "execution_count": 44,
   "metadata": {},
   "outputs": [
    {
     "name": "stdout",
     "output_type": "stream",
     "text": [
      "Use \n",
      " to print a new \n",
      " line\n"
     ]
    }
   ],
   "source": [
    "print('Use \\n to print a new \\n line')"
   ]
  },
  {
   "cell_type": "markdown",
   "metadata": {},
   "source": [
    "### String indexing \n",
    "* Use string basic built in function len() -> to count all string including spaces, punctuation\n",
    "* We can use index and slice notation to grab elemnts of a specified size. using :: two columns in a row and then number specifying the frequency "
   ]
  },
  {
   "cell_type": "code",
   "execution_count": 63,
   "metadata": {},
   "outputs": [
    {
     "name": "stdout",
     "output_type": "stream",
     "text": [
      "Love of worker Bees\n",
      "19\n",
      "v\n"
     ]
    },
    {
     "data": {
      "text/plain": [
       "'seeB rekrow fo evoL'"
      ]
     },
     "execution_count": 63,
     "metadata": {},
     "output_type": "execute_result"
    }
   ],
   "source": [
    "my_fav = 'Love of worker Bees'\n",
    "#check \n",
    "\n",
    "\n",
    "print(my_fav)\n",
    "\n",
    "print(len(my_fav))\n",
    "\n",
    "print(my_fav[2])\n",
    "\n",
    "#check variable equivalent\n",
    "my_fav\n",
    "\n",
    "#Slicing : To perform slicing which grabs everything up to a designated point. \"up to but not including\"\n",
    "#Grab everything up to THIRD index but not including the third item  \n",
    "my_fav[:3]\n",
    "\n",
    "# Grab Everything\n",
    "my_fav[:]\n",
    "\n",
    "#Negative indexing to go backwards, -1 is the last element of the string\n",
    "my_fav[-1]\n",
    "\n",
    "# GraB everything but the last letter \n",
    "my_fav[:-1]\n",
    "\n",
    "#Grab everything but go in step size of 2\n",
    "my_fav[::2]\n",
    "\n",
    "#We can use this to print a string backward \n",
    "my_fav[::-1]\n"
   ]
  },
  {
   "cell_type": "markdown",
   "metadata": {},
   "source": [
    "### String Properties \n",
    "* String have important propertyy known as immmutability. Which means once string is creatred, the elements within it can not be changed or replaced.\n",
    "* Concatnate "
   ]
  },
  {
   "cell_type": "code",
   "execution_count": 92,
   "metadata": {},
   "outputs": [
    {
     "data": {
      "text/plain": [
       "'Love of worker Bees : is about a girl from california who falls in love with a manLove of worker Bees : is about a girl from california who falls in love with a manLove of worker Bees : is about a girl from california who falls in love with a manLove of worker Bees : is about a girl from california who falls in love with a manLove of worker Bees : is about a girl from california who falls in love with a manLove of worker Bees : is about a girl from california who falls in love with a manLove of worker Bees : is about a girl from california who falls in love with a manLove of worker Bees : is about a girl from california who falls in love with a manLove of worker Bees : is about a girl from california who falls in love with a manLove of worker Bees : is about a girl from california who falls in love with a man : is about a girl from california who falls in love with a manLove of worker Bees : is about a girl from california who falls in love with a manLove of worker Bees : is about a girl from california who falls in love with a manLove of worker Bees : is about a girl from california who falls in love with a manLove of worker Bees : is about a girl from california who falls in love with a manLove of worker Bees : is about a girl from california who falls in love with a manLove of worker Bees : is about a girl from california who falls in love with a manLove of worker Bees : is about a girl from california who falls in love with a manLove of worker Bees : is about a girl from california who falls in love with a manLove of worker Bees : is about a girl from california who falls in love with a manLove of worker Bees : is about a girl from california who falls in love with a man : is about a girl from california who falls in love with a manLove of worker Bees : is about a girl from california who falls in love with a manLove of worker Bees : is about a girl from california who falls in love with a manLove of worker Bees : is about a girl from california who falls in love with a manLove of worker Bees : is about a girl from california who falls in love with a manLove of worker Bees : is about a girl from california who falls in love with a manLove of worker Bees : is about a girl from california who falls in love with a manLove of worker Bees : is about a girl from california who falls in love with a manLove of worker Bees : is about a girl from california who falls in love with a manLove of worker Bees : is about a girl from california who falls in love with a manLove of worker Bees : is about a girl from california who falls in love with a man : is about a girl from california who falls in love with a manLove of worker Bees : is about a girl from california who falls in love with a manLove of worker Bees : is about a girl from california who falls in love with a manLove of worker Bees : is about a girl from california who falls in love with a manLove of worker Bees : is about a girl from california who falls in love with a manLove of worker Bees : is about a girl from california who falls in love with a manLove of worker Bees : is about a girl from california who falls in love with a manLove of worker Bees : is about a girl from california who falls in love with a manLove of worker Bees : is about a girl from california who falls in love with a manLove of worker Bees : is about a girl from california who falls in love with a manLove of worker Bees : is about a girl from california who falls in love with a man : is about a girl from california who falls in love with a manLove of worker Bees : is about a girl from california who falls in love with a manLove of worker Bees : is about a girl from california who falls in love with a manLove of worker Bees : is about a girl from california who falls in love with a manLove of worker Bees : is about a girl from california who falls in love with a manLove of worker Bees : is about a girl from california who falls in love with a manLove of worker Bees : is about a girl from california who falls in love with a manLove of worker Bees : is about a girl from california who falls in love with a manLove of worker Bees : is about a girl from california who falls in love with a manLove of worker Bees : is about a girl from california who falls in love with a manLove of worker Bees : is about a girl from california who falls in love with a man : is about a girl from california who falls in love with a manLove of worker Bees : is about a girl from california who falls in love with a manLove of worker Bees : is about a girl from california who falls in love with a manLove of worker Bees : is about a girl from california who falls in love with a manLove of worker Bees : is about a girl from california who falls in love with a manLove of worker Bees : is about a girl from california who falls in love with a manLove of worker Bees : is about a girl from california who falls in love with a manLove of worker Bees : is about a girl from california who falls in love with a manLove of worker Bees : is about a girl from california who falls in love with a manLove of worker Bees : is about a girl from california who falls in love with a manLove of worker Bees : is about a girl from california who falls in love with a man : is about a girl from california who falls in love with a manLove of worker Bees : is about a girl from california who falls in love with a manLove of worker Bees : is about a girl from california who falls in love with a manLove of worker Bees : is about a girl from california who falls in love with a manLove of worker Bees : is about a girl from california who falls in love with a manLove of worker Bees : is about a girl from california who falls in love with a manLove of worker Bees : is about a girl from california who falls in love with a manLove of worker Bees : is about a girl from california who falls in love with a manLove of worker Bees : is about a girl from california who falls in love with a manLove of worker Bees : is about a girl from california who falls in love with a manLove of worker Bees : is about a girl from california who falls in love with a man : is about a girl from california who falls in love with a manLove of worker Bees : is about a girl from california who falls in love with a manLove of worker Bees : is about a girl from california who falls in love with a manLove of worker Bees : is about a girl from california who falls in love with a manLove of worker Bees : is about a girl from california who falls in love with a manLove of worker Bees : is about a girl from california who falls in love with a manLove of worker Bees : is about a girl from california who falls in love with a manLove of worker Bees : is about a girl from california who falls in love with a manLove of worker Bees : is about a girl from california who falls in love with a manLove of worker Bees : is about a girl from california who falls in love with a manLove of worker Bees : is about a girl from california who falls in love with a man : is about a girl from california who falls in love with a manLove of worker Bees : is about a girl from california who falls in love with a manLove of worker Bees : is about a girl from california who falls in love with a manLove of worker Bees : is about a girl from california who falls in love with a manLove of worker Bees : is about a girl from california who falls in love with a manLove of worker Bees : is about a girl from california who falls in love with a manLove of worker Bees : is about a girl from california who falls in love with a manLove of worker Bees : is about a girl from california who falls in love with a manLove of worker Bees : is about a girl from california who falls in love with a manLove of worker Bees : is about a girl from california who falls in love with a manLove of worker Bees : is about a girl from california who falls in love with a man : is about a girl from california who falls in love with a manLove of worker Bees : is about a girl from california who falls in love with a manLove of worker Bees : is about a girl from california who falls in love with a manLove of worker Bees : is about a girl from california who falls in love with a manLove of worker Bees : is about a girl from california who falls in love with a manLove of worker Bees : is about a girl from california who falls in love with a manLove of worker Bees : is about a girl from california who falls in love with a manLove of worker Bees : is about a girl from california who falls in love with a manLove of worker Bees : is about a girl from california who falls in love with a manLove of worker Bees : is about a girl from california who falls in love with a manLove of worker Bees : is about a girl from california who falls in love with a man : is about a girl from california who falls in love with a man : is about a girl from california who falls in love with a manLove of worker Bees : is about a girl from california who falls in love with a manLove of worker Bees : is about a girl from california who falls in love with a manLove of worker Bees : is about a girl from california who falls in love with a manLove of worker Bees : is about a girl from california who falls in love with a manLove of worker Bees : is about a girl from california who falls in love with a manLove of worker Bees : is about a girl from california who falls in love with a manLove of worker Bees : is about a girl from california who falls in love with a manLove of worker Bees : is about a girl from california who falls in love with a manLove of worker Bees : is about a girl from california who falls in love with a manLove of worker Bees : is about a girl from california who falls in love with a man : is about a girl from california who falls in love with a manLove of worker Bees : is about a girl from california who falls in love with a manLove of worker Bees : is about a girl from california who falls in love with a manLove of worker Bees : is about a girl from california who falls in love with a manLove of worker Bees : is about a girl from california who falls in love with a manLove of worker Bees : is about a girl from california who falls in love with a manLove of worker Bees : is about a girl from california who falls in love with a manLove of worker Bees : is about a girl from california who falls in love with a manLove of worker Bees : is about a girl from california who falls in love with a manLove of worker Bees : is about a girl from california who falls in love with a manLove of worker Bees : is about a girl from california who falls in love with a man : is about a girl from california who falls in love with a manLove of worker Bees : is about a girl from california who falls in love with a manLove of worker Bees : is about a girl from california who falls in love with a manLove of worker Bees : is about a girl from california who falls in love with a manLove of worker Bees : is about a girl from california who falls in love with a manLove of worker Bees : is about a girl from california who falls in love with a manLove of worker Bees : is about a girl from california who falls in love with a manLove of worker Bees : is about a girl from california who falls in love with a manLove of worker Bees : is about a girl from california who falls in love with a manLove of worker Bees : is about a girl from california who falls in love with a manLove of worker Bees : is about a girl from california who falls in love with a man : is about a girl from california who falls in love with a manLove of worker Bees : is about a girl from california who falls in love with a manLove of worker Bees : is about a girl from california who falls in love with a manLove of worker Bees : is about a girl from california who falls in love with a manLove of worker Bees : is about a girl from california who falls in love with a manLove of worker Bees : is about a girl from california who falls in love with a manLove of worker Bees : is about a girl from california who falls in love with a manLove of worker Bees : is about a girl from california who falls in love with a manLove of worker Bees : is about a girl from california who falls in love with a manLove of worker Bees : is about a girl from california who falls in love with a manLove of worker Bees : is about a girl from california who falls in love with a man : is about a girl from california who falls in love with a manLove of worker Bees : is about a girl from california who falls in love with a manLove of worker Bees : is about a girl from california who falls in love with a manLove of worker Bees : is about a girl from california who falls in love with a manLove of worker Bees : is about a girl from california who falls in love with a manLove of worker Bees : is about a girl from california who falls in love with a manLove of worker Bees : is about a girl from california who falls in love with a manLove of worker Bees : is about a girl from california who falls in love with a manLove of worker Bees : is about a girl from california who falls in love with a manLove of worker Bees : is about a girl from california who falls in love with a manLove of worker Bees : is about a girl from california who falls in love with a man : is about a girl from california who falls in love with a manLove of worker Bees : is about a girl from california who falls in love with a manLove of worker Bees : is about a girl from california who falls in love with a manLove of worker Bees : is about a girl from california who falls in love with a manLove of worker Bees : is about a girl from california who falls in love with a manLove of worker Bees : is about a girl from california who falls in love with a manLove of worker Bees : is about a girl from california who falls in love with a manLove of worker Bees : is about a girl from california who falls in love with a manLove of worker Bees : is about a girl from california who falls in love with a manLove of worker Bees : is about a girl from california who falls in love with a manLove of worker Bees : is about a girl from california who falls in love with a man : is about a girl from california who falls in love with a manLove of worker Bees : is about a girl from california who falls in love with a manLove of worker Bees : is about a girl from california who falls in love with a manLove of worker Bees : is about a girl from california who falls in love with a manLove of worker Bees : is about a girl from california who falls in love with a manLove of worker Bees : is about a girl from california who falls in love with a manLove of worker Bees : is about a girl from california who falls in love with a manLove of worker Bees : is about a girl from california who falls in love with a manLove of worker Bees : is about a girl from california who falls in love with a manLove of worker Bees : is about a girl from california who falls in love with a manLove of worker Bees : is about a girl from california who falls in love with a man : is about a girl from california who falls in love with a manLove of worker Bees : is about a girl from california who falls in love with a manLove of worker Bees : is about a girl from california who falls in love with a manLove of worker Bees : is about a girl from california who falls in love with a manLove of worker Bees : is about a girl from california who falls in love with a manLove of worker Bees : is about a girl from california who falls in love with a manLove of worker Bees : is about a girl from california who falls in love with a manLove of worker Bees : is about a girl from california who falls in love with a manLove of worker Bees : is about a girl from california who falls in love with a manLove of worker Bees : is about a girl from california who falls in love with a manLove of worker Bees : is about a girl from california who falls in love with a man : is about a girl from california who falls in love with a manLove of worker Bees : is about a girl from california who falls in love with a manLove of worker Bees : is about a girl from california who falls in love with a manLove of worker Bees : is about a girl from california who falls in love with a manLove of worker Bees : is about a girl from california who falls in love with a manLove of worker Bees : is about a girl from california who falls in love with a manLove of worker Bees : is about a girl from california who falls in love with a manLove of worker Bees : is about a girl from california who falls in love with a manLove of worker Bees : is about a girl from california who falls in love with a manLove of worker Bees : is about a girl from california who falls in love with a manLove of worker Bees : is about a girl from california who falls in love with a man : is about a girl from california who falls in love with a manLove of worker Bees : is about a girl from california who falls in love with a manLove of worker Bees : is about a girl from california who falls in love with a manLove of worker Bees : is about a girl from california who falls in love with a manLove of worker Bees : is about a girl from california who falls in love with a manLove of worker Bees : is about a girl from california who falls in love with a manLove of worker Bees : is about a girl from california who falls in love with a manLove of worker Bees : is about a girl from california who falls in love with a manLove of worker Bees : is about a girl from california who falls in love with a manLove of worker Bees : is about a girl from california who falls in love with a manLove of worker Bees : is about a girl from california who falls in love with a man : is about a girl from california who falls in love with a man : is about a girl from california who falls in love with a man : is about a girl from california who falls in love with a man : is about a girl from California who falls in love with a sailor : is about a girl from California who falls in love with a sailor : is about a girl from California who falls in love with a sailoris about a girl from California who falls in love with a sailoris about a girl from California who falls in love with a sailor'"
      ]
     },
     "execution_count": 92,
     "metadata": {},
     "output_type": "execute_result"
    }
   ],
   "source": [
    "my_fav = my_fav + 'is about a girl from California who falls in love with a sailor'\n",
    "\n",
    "my_fav"
   ]
  },
  {
   "cell_type": "code",
   "execution_count": null,
   "metadata": {},
   "outputs": [],
   "source": []
  },
  {
   "cell_type": "code",
   "execution_count": null,
   "metadata": {},
   "outputs": [],
   "source": []
  }
 ],
 "metadata": {
  "kernelspec": {
   "display_name": "Python 3",
   "language": "python",
   "name": "python3"
  },
  "language_info": {
   "codemirror_mode": {
    "name": "ipython",
    "version": 3
   },
   "file_extension": ".py",
   "mimetype": "text/x-python",
   "name": "python",
   "nbconvert_exporter": "python",
   "pygments_lexer": "ipython3",
   "version": "3.11.8"
  }
 },
 "nbformat": 4,
 "nbformat_minor": 2
}
